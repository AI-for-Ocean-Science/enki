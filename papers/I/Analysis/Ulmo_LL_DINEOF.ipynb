{
 "cells": [
  {
   "cell_type": "markdown",
   "id": "af8865f0-96be-41e3-84e5-29b94cd88aca",
   "metadata": {},
   "source": [
    "# Ulmo LL on DINEOF"
   ]
  },
  {
   "cell_type": "code",
   "execution_count": 28,
   "id": "1b31dcc1-d7cc-446a-8c1a-57ce54c384b6",
   "metadata": {},
   "outputs": [],
   "source": [
    "# imports\n",
    "import os\n",
    "import glob\n",
    "import numpy as np\n",
    "\n",
    "import torch\n",
    "import h5py\n",
    "\n",
    "import pickle\n",
    "\n",
    "from tqdm.auto import tqdm\n",
    "\n",
    "from ulmo import io as ulmo_io\n",
    "from ulmo.preproc import utils as pp_utils\n",
    "from ulmo.plotting import plotting\n",
    "from ulmo.models import autoencoders, ConditionalFlow\n",
    "from ulmo import ood"
   ]
  },
  {
   "cell_type": "markdown",
   "id": "25436559-4174-4fb3-9781-3aff2c16241b",
   "metadata": {},
   "source": [
    "# Load data"
   ]
  },
  {
   "cell_type": "markdown",
   "id": "9f0fd3ec-0593-4443-a015-65405e7f727a",
   "metadata": {},
   "source": [
    "## Table"
   ]
  },
  {
   "cell_type": "code",
   "execution_count": 12,
   "id": "858e67b4-f0ae-4589-b585-a2bd0e0b52bd",
   "metadata": {},
   "outputs": [
    {
     "name": "stdout",
     "output_type": "stream",
     "text": [
      "Read main table: /media/xavier/crucial/Oceanography/OGCM/LLC/Enki/Tables/Enki_LLC_DINOEF.parquet\n"
     ]
    }
   ],
   "source": [
    "tbl_path = os.path.join(os.getenv('OS_OGCM'), 'LLC', 'Enki', 'Tables')\n",
    "tbl_file = os.path.join(tbl_path, 'Enki_LLC_DINOEF.parquet')\n",
    "dineof_tbl = ulmo_io.load_main_table(tbl_file)"
   ]
  },
  {
   "cell_type": "code",
   "execution_count": 14,
   "id": "b50dc0e3-c6d0-4321-86b2-515f09df23cc",
   "metadata": {},
   "outputs": [
    {
     "data": {
      "text/html": [
       "<div>\n",
       "<style scoped>\n",
       "    .dataframe tbody tr th:only-of-type {\n",
       "        vertical-align: middle;\n",
       "    }\n",
       "\n",
       "    .dataframe tbody tr th {\n",
       "        vertical-align: top;\n",
       "    }\n",
       "\n",
       "    .dataframe thead th {\n",
       "        text-align: right;\n",
       "    }\n",
       "</style>\n",
       "<table border=\"1\" class=\"dataframe\">\n",
       "  <thead>\n",
       "    <tr style=\"text-align: right;\">\n",
       "      <th></th>\n",
       "      <th>lat</th>\n",
       "      <th>lon</th>\n",
       "      <th>row</th>\n",
       "      <th>col</th>\n",
       "      <th>datetime</th>\n",
       "      <th>filename</th>\n",
       "      <th>pp_file</th>\n",
       "      <th>pp_root</th>\n",
       "      <th>field_size</th>\n",
       "      <th>pp_idx</th>\n",
       "      <th>pp_type</th>\n",
       "      <th>mean_temperature</th>\n",
       "      <th>Tmin</th>\n",
       "      <th>Tmax</th>\n",
       "      <th>T90</th>\n",
       "      <th>T10</th>\n",
       "      <th>DT</th>\n",
       "    </tr>\n",
       "  </thead>\n",
       "  <tbody>\n",
       "    <tr>\n",
       "      <th>0</th>\n",
       "      <td>21.003527</td>\n",
       "      <td>117.989586</td>\n",
       "      <td>9005</td>\n",
       "      <td>7455</td>\n",
       "      <td>2011-09-27</td>\n",
       "      <td>/data/Projects/Oceanography/data/LLC/ThetaUVSa...</td>\n",
       "      <td>s3://llc/mae/PreProc/Enki_LLC_DINEOF_preproc.h5</td>\n",
       "      <td>llc_144</td>\n",
       "      <td>64</td>\n",
       "      <td>125</td>\n",
       "      <td>0</td>\n",
       "      <td>27.872849</td>\n",
       "      <td>27.015001</td>\n",
       "      <td>28.167002</td>\n",
       "      <td>28.053001</td>\n",
       "      <td>27.636002</td>\n",
       "      <td>0.417000</td>\n",
       "    </tr>\n",
       "    <tr>\n",
       "      <th>1</th>\n",
       "      <td>21.003527</td>\n",
       "      <td>117.989586</td>\n",
       "      <td>9005</td>\n",
       "      <td>7455</td>\n",
       "      <td>2011-09-28</td>\n",
       "      <td>/data/Projects/Oceanography/data/LLC/ThetaUVSa...</td>\n",
       "      <td>s3://llc/mae/PreProc/Enki_LLC_DINEOF_preproc.h5</td>\n",
       "      <td>llc_144</td>\n",
       "      <td>64</td>\n",
       "      <td>144</td>\n",
       "      <td>0</td>\n",
       "      <td>27.727337</td>\n",
       "      <td>27.038000</td>\n",
       "      <td>28.095001</td>\n",
       "      <td>27.900002</td>\n",
       "      <td>27.522001</td>\n",
       "      <td>0.378000</td>\n",
       "    </tr>\n",
       "    <tr>\n",
       "      <th>2</th>\n",
       "      <td>21.003527</td>\n",
       "      <td>117.989586</td>\n",
       "      <td>9005</td>\n",
       "      <td>7455</td>\n",
       "      <td>2011-09-29</td>\n",
       "      <td>/data/Projects/Oceanography/data/LLC/ThetaUVSa...</td>\n",
       "      <td>s3://llc/mae/PreProc/Enki_LLC_DINEOF_preproc.h5</td>\n",
       "      <td>llc_144</td>\n",
       "      <td>64</td>\n",
       "      <td>2</td>\n",
       "      <td>0</td>\n",
       "      <td>27.608845</td>\n",
       "      <td>26.865002</td>\n",
       "      <td>27.933001</td>\n",
       "      <td>27.850000</td>\n",
       "      <td>27.302000</td>\n",
       "      <td>0.548000</td>\n",
       "    </tr>\n",
       "    <tr>\n",
       "      <th>3</th>\n",
       "      <td>21.003527</td>\n",
       "      <td>117.989586</td>\n",
       "      <td>9005</td>\n",
       "      <td>7455</td>\n",
       "      <td>2011-09-30</td>\n",
       "      <td>/data/Projects/Oceanography/data/LLC/ThetaUVSa...</td>\n",
       "      <td>s3://llc/mae/PreProc/Enki_LLC_DINEOF_preproc.h5</td>\n",
       "      <td>llc_144</td>\n",
       "      <td>64</td>\n",
       "      <td>8</td>\n",
       "      <td>0</td>\n",
       "      <td>27.713804</td>\n",
       "      <td>27.044001</td>\n",
       "      <td>28.058001</td>\n",
       "      <td>27.963001</td>\n",
       "      <td>27.415001</td>\n",
       "      <td>0.548000</td>\n",
       "    </tr>\n",
       "    <tr>\n",
       "      <th>4</th>\n",
       "      <td>21.003527</td>\n",
       "      <td>117.989586</td>\n",
       "      <td>9005</td>\n",
       "      <td>7455</td>\n",
       "      <td>2011-10-01</td>\n",
       "      <td>/data/Projects/Oceanography/data/LLC/ThetaUVSa...</td>\n",
       "      <td>s3://llc/mae/PreProc/Enki_LLC_DINEOF_preproc.h5</td>\n",
       "      <td>llc_144</td>\n",
       "      <td>64</td>\n",
       "      <td>134</td>\n",
       "      <td>0</td>\n",
       "      <td>27.738844</td>\n",
       "      <td>27.000000</td>\n",
       "      <td>28.245001</td>\n",
       "      <td>27.998001</td>\n",
       "      <td>27.438002</td>\n",
       "      <td>0.559999</td>\n",
       "    </tr>\n",
       "  </tbody>\n",
       "</table>\n",
       "</div>"
      ],
      "text/plain": [
       "         lat         lon   row   col   datetime  \\\n",
       "0  21.003527  117.989586  9005  7455 2011-09-27   \n",
       "1  21.003527  117.989586  9005  7455 2011-09-28   \n",
       "2  21.003527  117.989586  9005  7455 2011-09-29   \n",
       "3  21.003527  117.989586  9005  7455 2011-09-30   \n",
       "4  21.003527  117.989586  9005  7455 2011-10-01   \n",
       "\n",
       "                                            filename  \\\n",
       "0  /data/Projects/Oceanography/data/LLC/ThetaUVSa...   \n",
       "1  /data/Projects/Oceanography/data/LLC/ThetaUVSa...   \n",
       "2  /data/Projects/Oceanography/data/LLC/ThetaUVSa...   \n",
       "3  /data/Projects/Oceanography/data/LLC/ThetaUVSa...   \n",
       "4  /data/Projects/Oceanography/data/LLC/ThetaUVSa...   \n",
       "\n",
       "                                           pp_file  pp_root  field_size  \\\n",
       "0  s3://llc/mae/PreProc/Enki_LLC_DINEOF_preproc.h5  llc_144          64   \n",
       "1  s3://llc/mae/PreProc/Enki_LLC_DINEOF_preproc.h5  llc_144          64   \n",
       "2  s3://llc/mae/PreProc/Enki_LLC_DINEOF_preproc.h5  llc_144          64   \n",
       "3  s3://llc/mae/PreProc/Enki_LLC_DINEOF_preproc.h5  llc_144          64   \n",
       "4  s3://llc/mae/PreProc/Enki_LLC_DINEOF_preproc.h5  llc_144          64   \n",
       "\n",
       "   pp_idx  pp_type  mean_temperature       Tmin       Tmax        T90  \\\n",
       "0     125        0         27.872849  27.015001  28.167002  28.053001   \n",
       "1     144        0         27.727337  27.038000  28.095001  27.900002   \n",
       "2       2        0         27.608845  26.865002  27.933001  27.850000   \n",
       "3       8        0         27.713804  27.044001  28.058001  27.963001   \n",
       "4     134        0         27.738844  27.000000  28.245001  27.998001   \n",
       "\n",
       "         T10        DT  \n",
       "0  27.636002  0.417000  \n",
       "1  27.522001  0.378000  \n",
       "2  27.302000  0.548000  \n",
       "3  27.415001  0.548000  \n",
       "4  27.438002  0.559999  "
      ]
     },
     "execution_count": 14,
     "metadata": {},
     "output_type": "execute_result"
    }
   ],
   "source": [
    "dineof_tbl.head()"
   ]
  },
  {
   "cell_type": "markdown",
   "id": "5cfb2ebf-84a3-45ab-91c9-536f2ef8e698",
   "metadata": {},
   "source": [
    "## Now the data file"
   ]
  },
  {
   "cell_type": "code",
   "execution_count": 36,
   "id": "11a6974b-7762-4eee-916a-5cdc534273ee",
   "metadata": {},
   "outputs": [],
   "source": [
    "preproc_path = os.path.join(os.getenv('OS_OGCM'), 'LLC', 'Enki', 'PreProc')\n",
    "preproc_file = os.path.join(preproc_path, 'Enki_LLC_DINEOF_preproc.h5')\n",
    "f = h5py.File(preproc_file, 'r')"
   ]
  },
  {
   "cell_type": "code",
   "execution_count": 19,
   "id": "7348bf3c-96d8-4ce7-9d6f-526891d579b3",
   "metadata": {},
   "outputs": [
    {
     "data": {
      "text/plain": [
       "(180, 1, 64, 64)"
      ]
     },
     "execution_count": 19,
     "metadata": {},
     "output_type": "execute_result"
    }
   ],
   "source": [
    "f['valid'].shape"
   ]
  },
  {
   "cell_type": "markdown",
   "id": "a5757a0a-9857-4203-aec1-09f69e3a8c3b",
   "metadata": {},
   "source": [
    "# Load model"
   ]
  },
  {
   "cell_type": "code",
   "execution_count": 6,
   "id": "4462d4a4-bf31-4d7d-b58f-c1b60ebde3d4",
   "metadata": {},
   "outputs": [
    {
     "name": "stdout",
     "output_type": "stream",
     "text": [
      "Loading model in /media/xavier/crucial/Oceanography/SST/MODIS_L2/Ulmo\n"
     ]
    }
   ],
   "source": [
    "# Load model\n",
    "model_path = os.path.join(os.getenv('OS_SST'), 'MODIS_L2', 'Ulmo')\n",
    "print(\"Loading model in {}\".format(model_path))\n",
    "device = torch.device('cuda' if torch.cuda.is_available() else 'cpu')\n",
    "dcae = autoencoders.DCAE.from_file(os.path.join(model_path, 'autoencoder.pt'),\n",
    "                                       image_shape=(1, 64, 64),\n",
    "                                       latent_dim=512)"
   ]
  },
  {
   "cell_type": "markdown",
   "id": "9a6dab88-fc90-41fb-acab-294a430e0d50",
   "metadata": {},
   "source": [
    "## Flow"
   ]
  },
  {
   "cell_type": "code",
   "execution_count": 7,
   "id": "e7965563-18b1-4332-ac56-5a11e5afbecf",
   "metadata": {},
   "outputs": [
    {
     "name": "stdout",
     "output_type": "stream",
     "text": [
      "Using device=cpu\n",
      "Wrote model parameters to ./model.json\n",
      "Model loaded!\n"
     ]
    }
   ],
   "source": [
    "flow = ConditionalFlow(\n",
    "    dim=512,\n",
    "    context_dim=None,\n",
    "    transform_type='autoregressive',\n",
    "    n_layers=10,\n",
    "    hidden_units=256,\n",
    "    n_blocks=2,\n",
    "    dropout=0.2,\n",
    "    use_batch_norm=False,\n",
    "    tails='linear',\n",
    "    tail_bound=10,\n",
    "    n_bins=5,\n",
    "    min_bin_height=1e-3,\n",
    "    min_bin_width=1e-3,\n",
    "    min_derivative=1e-3,\n",
    "    unconditional_transform=False,\n",
    "    encoder=None)\n",
    "flow.load_state_dict(torch.load(os.path.join(model_path, 'flow.pt'), map_location=device))\n",
    "pae = ood.ProbabilisticAutoencoder(dcae, flow, 'tmp/', device=device, skip_mkdir=True)\n",
    "print(\"Model loaded!\")"
   ]
  },
  {
   "cell_type": "markdown",
   "id": "0c9b7375-f3cf-428a-b7e3-8ff32a3be2d3",
   "metadata": {},
   "source": [
    "# Prep"
   ]
  },
  {
   "cell_type": "code",
   "execution_count": 9,
   "id": "1b739187-1b48-485b-913c-a08bf4983572",
   "metadata": {},
   "outputs": [
    {
     "data": {
      "text/plain": [
       "ConditionalFlow(\n",
       "  (flow): Flow(\n",
       "    (_transform): CompositeTransform(\n",
       "      (_transforms): ModuleList(\n",
       "        (0-9): 10 x CompositeTransform(\n",
       "          (_transforms): ModuleList(\n",
       "            (0): RandomPermutation()\n",
       "            (1): MaskedPiecewiseRationalQuadraticAutoregressiveTransform(\n",
       "              (autoregressive_net): MADE(\n",
       "                (initial_layer): MaskedLinear(in_features=512, out_features=256, bias=True)\n",
       "                (blocks): ModuleList(\n",
       "                  (0-1): 2 x MaskedResidualBlock(\n",
       "                    (linear_layers): ModuleList(\n",
       "                      (0-1): 2 x MaskedLinear(in_features=256, out_features=256, bias=True)\n",
       "                    )\n",
       "                    (dropout): Dropout(p=0.2, inplace=False)\n",
       "                  )\n",
       "                )\n",
       "                (final_layer): MaskedLinear(in_features=256, out_features=7168, bias=True)\n",
       "              )\n",
       "            )\n",
       "          )\n",
       "        )\n",
       "      )\n",
       "    )\n",
       "    (_distribution): StandardNormal()\n",
       "    (_embedding_net): Identity()\n",
       "  )\n",
       ")"
      ]
     },
     "execution_count": 9,
     "metadata": {},
     "output_type": "execute_result"
    }
   ],
   "source": [
    "pae.autoencoder.eval()\n",
    "pae.flow.eval()"
   ]
  },
  {
   "cell_type": "markdown",
   "id": "8ce94fa5-12ba-4f75-86c1-77352b411ed7",
   "metadata": {},
   "source": [
    "# Latents"
   ]
  },
  {
   "cell_type": "code",
   "execution_count": 37,
   "id": "2775c776-a9cd-4a07-a0d5-b818778f38cf",
   "metadata": {},
   "outputs": [],
   "source": [
    "pp_field = f['valid'][100, ...]"
   ]
  },
  {
   "cell_type": "code",
   "execution_count": null,
   "id": "353e116a-c791-49c7-8408-7726732f0bea",
   "metadata": {},
   "outputs": [
    {
     "data": {
      "application/vnd.jupyter.widget-view+json": {
       "model_id": "74eeb723ab274cedb79a9cafbfef4d16",
       "version_major": 2,
       "version_minor": 0
      },
      "text/plain": [
       "Computing latents:   0%|          | 0/1 [00:00<?, ?batch/s]"
      ]
     },
     "metadata": {},
     "output_type": "display_data"
    }
   ],
   "source": [
    "# Latent\n",
    "pp_field.resize(1, 1, 64, 64)\n",
    "dset = torch.utils.data.TensorDataset(torch.from_numpy(pp_field).float())\n",
    "loader = torch.utils.data.DataLoader(\n",
    "    dset, batch_size=1, shuffle=False,\n",
    "    drop_last=False, num_workers=16)\n",
    "with torch.no_grad():\n",
    "    latents = [pae.autoencoder.encode(data[0].to(device)).detach().cpu().numpy()\n",
    "               for data in tqdm(loader, total=len(loader), unit='batch', desc='Computing latents')]\n",
    "print(\"Latents generated!\")"
   ]
  },
  {
   "cell_type": "code",
   "execution_count": null,
   "id": "7b48b8cd-ba80-4810-a4a9-55f5adb44cba",
   "metadata": {},
   "outputs": [],
   "source": [
    "# Scaler\n",
    "scaler_path = glob.glob(os.path.join(model_path, '*scaler.pkl'))[0]\n",
    "with open(scaler_path, 'rb') as f:\n",
    "    scaler = pickle.load(f)\n",
    "latents = scaler.transform(np.concatenate(latents))"
   ]
  },
  {
   "cell_type": "markdown",
   "id": "0cc12ea2-5174-4b17-9095-6e3aafdc6936",
   "metadata": {},
   "source": [
    "# LL"
   ]
  },
  {
   "cell_type": "code",
   "execution_count": null,
   "id": "3940d99e-fa0f-4a0d-b12a-e8b13425f9ff",
   "metadata": {},
   "outputs": [],
   "source": [
    "# LL\n",
    "dset = torch.utils.data.TensorDataset(torch.from_numpy(latents).float())\n",
    "loader = torch.utils.data.DataLoader(\n",
    "    dset, batch_size=1024, shuffle=False,\n",
    "    drop_last=False, num_workers=16)\n",
    "\n",
    "with torch.no_grad():\n",
    "    log_prob = [pae.flow.log_prob(data[0].to(pae.device)).detach().cpu().numpy()\n",
    "                    for data in tqdm(loader, total=len(loader), unit='batch', desc='Computing log probs')]\n",
    "print(\"Log probabilities generated!\")\n",
    "\n",
    "print(\"The LL for the field is: {}\".format(float(log_prob[0])))"
   ]
  },
  {
   "cell_type": "code",
   "execution_count": null,
   "id": "30a89917-3f03-46d8-aab6-f3922a761a98",
   "metadata": {},
   "outputs": [],
   "source": []
  }
 ],
 "metadata": {
  "kernelspec": {
   "display_name": "Python 3 (ipykernel)",
   "language": "python",
   "name": "python3"
  },
  "language_info": {
   "codemirror_mode": {
    "name": "ipython",
    "version": 3
   },
   "file_extension": ".py",
   "mimetype": "text/x-python",
   "name": "python",
   "nbconvert_exporter": "python",
   "pygments_lexer": "ipython3",
   "version": "3.11.6"
  }
 },
 "nbformat": 4,
 "nbformat_minor": 5
}
